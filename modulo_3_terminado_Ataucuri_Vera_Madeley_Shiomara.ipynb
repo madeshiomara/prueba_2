{
  "cells": [
    {
      "cell_type": "markdown",
      "metadata": {
        "id": "view-in-github",
        "colab_type": "text"
      },
      "source": [
        "<a href=\"https://colab.research.google.com/github/madeshiomara/prueba_2/blob/main/modulo_3_terminado_Ataucuri_Vera_Madeley_Shiomara.ipynb\" target=\"_parent\"><img src=\"https://colab.research.google.com/assets/colab-badge.svg\" alt=\"Open In Colab\"/></a>"
      ]
    },
    {
      "cell_type": "markdown",
      "metadata": {
        "id": "kt2I6UBTXfTx"
      },
      "source": [
        "<img src=\"https://www.ctic.uni.edu.pe/wp-content/uploads/2022/04/588px-x-348px-web-1.png\" alt=\"HTML5 Icon\" width=\"900\" height=\"350\" >"
      ]
    },
    {
      "cell_type": "markdown",
      "metadata": {
        "id": "OVQ2JpIkXhGH"
      },
      "source": [
        "<h1 align=center><font size = 5>UNIDAD III - FUNCIONES\n",
        "</font></h1>\n",
        "\n",
        "---"
      ]
    },
    {
      "cell_type": "markdown",
      "metadata": {
        "id": "dR78NGA6Xv_r"
      },
      "source": [
        "## Tabla de Contenidos\n",
        "\n",
        "<div class=\"alert alert-block alert-info\" style=\"margin-top: 20px\">\n",
        "\n",
        "<font size = 3>\n",
        "    \n",
        "1. <a href=\"#item31\">Definiendo funciones</a>\n",
        "2. <a href=\"#item31\">Usando información dentro de funciones</a>  \n",
        "3. <a href=\"#item31\">Valores de retorno</a>  \n",
        "4. <a href=\"#item31\">Usando funciones con loops while</a>  \n",
        "5. <a href=\"#item31\">Usando listas</a>  \n",
        "6. <a href=\"#item31\">Pasar un número arbitrario de argumentos</a>  \n",
        "7. <a href=\"#item31\">Almacenamiento de funciones con módulos</a>  \n",
        "8. <a href=\"#item31\">Clases</a>  \n",
        "\n",
        "</font>\n",
        "</div>\n",
        "\n",
        "---"
      ]
    },
    {
      "cell_type": "markdown",
      "metadata": {
        "id": "WgFT9B7xYLXC"
      },
      "source": [
        "#1. Definiendo funciones"
      ]
    },
    {
      "cell_type": "code",
      "execution_count": null,
      "metadata": {
        "id": "B_SRqc6sSuwd"
      },
      "outputs": [],
      "source": [
        "def funcion():\n",
        "  \"\"\"Esta es la documentación de mi función\n",
        "     Esta funcion printea un mensaje de prueba\n",
        "     - Esta función no tiene parámetros\"\"\"\n",
        "  print(\"esta es una prueba\")\n"
      ]
    },
    {
      "cell_type": "code",
      "execution_count": null,
      "metadata": {
        "colab": {
          "base_uri": "https://localhost:8080/"
        },
        "id": "4qMdJxlFTqId",
        "outputId": "bb80cd83-8ae1-4743-9c84-dd2d39f8cb5e"
      },
      "outputs": [
        {
          "name": "stdout",
          "output_type": "stream",
          "text": [
            "esta es una prueba\n"
          ]
        }
      ],
      "source": [
        "funcion()"
      ]
    },
    {
      "cell_type": "code",
      "execution_count": null,
      "metadata": {
        "id": "z_3BmhDwT3sB"
      },
      "outputs": [],
      "source": [
        "funcion?"
      ]
    },
    {
      "cell_type": "code",
      "execution_count": null,
      "metadata": {
        "id": "aegdMKDxXefq"
      },
      "outputs": [],
      "source": [
        "def greet_user():\n",
        "    \"\"\"Escribir un saludo simple.\"\"\"\n",
        "    print(\"Hola!!\")\n"
      ]
    },
    {
      "cell_type": "code",
      "execution_count": null,
      "metadata": {
        "colab": {
          "base_uri": "https://localhost:8080/"
        },
        "id": "TOZdVi5OZTRZ",
        "outputId": "79386139-e712-48e0-b876-f1e0d0f68434"
      },
      "outputs": [
        {
          "name": "stdout",
          "output_type": "stream",
          "text": [
            "Hola!!\n"
          ]
        }
      ],
      "source": [
        "greet_user()"
      ]
    },
    {
      "cell_type": "code",
      "execution_count": null,
      "metadata": {
        "id": "Kj7qdHDUUceC"
      },
      "outputs": [],
      "source": [
        "greet_user?"
      ]
    },
    {
      "cell_type": "markdown",
      "metadata": {
        "id": "p7e7CUC_YjWU"
      },
      "source": [
        "#2. Usando información dentro de funciones"
      ]
    },
    {
      "cell_type": "code",
      "execution_count": null,
      "metadata": {
        "id": "JQ_Os2hpU4hW"
      },
      "outputs": [],
      "source": [
        "def greet_user(username):\n",
        "  \"\"\"vamos a generar un saludo al nombre definido\"\"\"\n",
        "  print(f\"Hola, {username}!\")"
      ]
    },
    {
      "cell_type": "code",
      "execution_count": null,
      "metadata": {
        "id": "7_LUnJKwY7Jm"
      },
      "outputs": [],
      "source": [
        "def greet_user(username):\n",
        "    \"\"\"Escribir un saludo simple.\"\"\"\n",
        "    print(f\"Hola, {username.title()}!\")\n"
      ]
    },
    {
      "cell_type": "code",
      "execution_count": null,
      "metadata": {
        "colab": {
          "base_uri": "https://localhost:8080/"
        },
        "id": "jVoZm31qZV9O",
        "outputId": "f1ff4eed-ccd1-45ae-88a8-0440941dcfee"
      },
      "outputs": [
        {
          "name": "stdout",
          "output_type": "stream",
          "text": [
            "Hola, John!\n"
          ]
        }
      ],
      "source": [
        "greet_user('John')"
      ]
    },
    {
      "cell_type": "code",
      "execution_count": null,
      "metadata": {
        "colab": {
          "base_uri": "https://localhost:8080/"
        },
        "id": "NzTUG3LpVZ0W",
        "outputId": "42180746-b64d-4391-b017-1e2672f56adc"
      },
      "outputs": [
        {
          "name": "stdout",
          "output_type": "stream",
          "text": [
            "Hola, Victor!\n"
          ]
        }
      ],
      "source": [
        "greet_user('Victor')"
      ]
    },
    {
      "cell_type": "code",
      "execution_count": null,
      "metadata": {
        "colab": {
          "base_uri": "https://localhost:8080/"
        },
        "id": "Db7gK5PoVcsE",
        "outputId": "c1a45d10-ec07-473a-da9f-b1a31e97ba68"
      },
      "outputs": [
        {
          "name": "stdout",
          "output_type": "stream",
          "text": [
            "Hola, Margarita!\n"
          ]
        }
      ],
      "source": [
        "greet_user('Margarita')"
      ]
    },
    {
      "cell_type": "markdown",
      "metadata": {
        "id": "D8I5O9AjZgLY"
      },
      "source": [
        "---\n",
        "\n",
        "<b> Ejercicio 1</b>\n",
        "\n",
        "Escriba una función llamada **display_message()** que imprima una oración que diga a todos lo que está aprendiendo en este capítulo. Llame a la función y asegúrese de que el mensaje se muestre correctamente.\n"
      ]
    },
    {
      "cell_type": "code",
      "execution_count": null,
      "metadata": {
        "id": "R0aZ-TvoVoPW"
      },
      "outputs": [],
      "source": [
        "def display_message():\n",
        "  \"\"\"imprimir una oración que diga a todos lo que está aprendiendo en este capítulo\"\"\"\n",
        "  print(\"Estamos aprendiendo de funciones en Python!!!\")\n",
        "  "
      ]
    },
    {
      "cell_type": "code",
      "execution_count": null,
      "metadata": {
        "colab": {
          "base_uri": "https://localhost:8080/"
        },
        "id": "OFcSWrPsWxBS",
        "outputId": "bfb31dd8-418f-4741-ae3f-45ad48b2ddda"
      },
      "outputs": [
        {
          "name": "stdout",
          "output_type": "stream",
          "text": [
            "Estamos aprendiendo de funciones en Python!!!\n"
          ]
        }
      ],
      "source": [
        "display_message()"
      ]
    },
    {
      "cell_type": "markdown",
      "metadata": {
        "id": "hk_i1gS_bvyv"
      },
      "source": [
        "\n",
        "---\n",
        "\n",
        "<b> Ejercicio 2</b>\n",
        "\n",
        "Escriba una función llamada **favorite_book()** que acepte un parámetro, título. La función debe imprimir un mensaje, como Uno de mis libros favoritos es Alicia en el país de las maravillas. Llame a la función, asegurándose de incluir el título de un libro como argumento en la llamada a la función.\n",
        "\n",
        "---"
      ]
    },
    {
      "cell_type": "code",
      "execution_count": null,
      "metadata": {
        "id": "BRy_yROXVpdr"
      },
      "outputs": [],
      "source": [
        "def favorite_book(bookname):\n",
        "  \"\"\"This code prints my favorite book\"\"\"\n",
        "  print(f'Uno de mis libros favoritos es {bookname}')\n"
      ]
    },
    {
      "cell_type": "code",
      "execution_count": null,
      "metadata": {
        "colab": {
          "base_uri": "https://localhost:8080/"
        },
        "id": "RNnx_YErXVj3",
        "outputId": "1df301a9-e9bd-4095-9c2d-3f3cbd649a78"
      },
      "outputs": [
        {
          "name": "stdout",
          "output_type": "stream",
          "text": [
            "Uno de mis libros favoritos es Alicia en el país de las maravillas\n"
          ]
        }
      ],
      "source": [
        "favorite_book('Alicia en el país de las maravillas')"
      ]
    },
    {
      "cell_type": "markdown",
      "metadata": {
        "id": "xpi4CpaLewj-"
      },
      "source": [
        "### Posición de argumentos"
      ]
    },
    {
      "cell_type": "code",
      "execution_count": null,
      "metadata": {
        "id": "CAB8xh1jYnIx"
      },
      "outputs": [],
      "source": [
        "def describe_pet(animal_type, pet_name):\n",
        "  \"\"\"This function displays information about a pet.\"\"\"\n",
        "  print(f'\\nYo tengo un/una {animal_type}.')\n",
        "  print(f\"El nombre de mi {animal_type} es {pet_name}.\")\n",
        "  "
      ]
    },
    {
      "cell_type": "code",
      "execution_count": null,
      "metadata": {
        "colab": {
          "base_uri": "https://localhost:8080/"
        },
        "id": "ZZyizIlXZloM",
        "outputId": "5603d156-8264-4327-db46-19f059cdf78d"
      },
      "outputs": [
        {
          "name": "stdout",
          "output_type": "stream",
          "text": [
            "\n",
            "Yo tengo un/una tortuga.\n",
            "El nombre de mi tortuga es Simona.\n"
          ]
        }
      ],
      "source": [
        "describe_pet('tortuga', 'Simona')"
      ]
    },
    {
      "cell_type": "code",
      "execution_count": null,
      "metadata": {
        "id": "7H5m3SONe45x"
      },
      "outputs": [],
      "source": [
        "def describe_pet(animal_type, pet_name):\n",
        "  \"\"\"Display information about a pet.\"\"\"\n",
        "  print(f\"\\nI have a {animal_type}.\")\n",
        "  print(f\"My {animal_type}'s name is {pet_name.title()}.\")\n",
        "\n"
      ]
    },
    {
      "cell_type": "code",
      "execution_count": null,
      "metadata": {
        "colab": {
          "base_uri": "https://localhost:8080/"
        },
        "id": "5I_pcnwJe5aT",
        "outputId": "598bf617-b6dc-49f5-f50d-f41f5fe1743c"
      },
      "outputs": [
        {
          "name": "stdout",
          "output_type": "stream",
          "text": [
            "\n",
            "Yo tengo un/una hamster.\n",
            "El nombre de mi hamster es harry.\n"
          ]
        }
      ],
      "source": [
        "describe_pet('hamster', 'harry')"
      ]
    },
    {
      "cell_type": "code",
      "execution_count": null,
      "metadata": {
        "colab": {
          "base_uri": "https://localhost:8080/"
        },
        "id": "NA36VGAMgJ5-",
        "outputId": "9d229bc3-7e20-4377-c55f-ebcb327cc855"
      },
      "outputs": [
        {
          "name": "stdout",
          "output_type": "stream",
          "text": [
            "\n",
            "Yo tengo un/una hamster.\n",
            "El nombre de mi hamster es harry.\n",
            "\n",
            "Yo tengo un/una dog.\n",
            "El nombre de mi dog es willie.\n"
          ]
        }
      ],
      "source": [
        "describe_pet('hamster', 'harry')\n",
        "describe_pet('dog', 'willie')"
      ]
    },
    {
      "cell_type": "markdown",
      "metadata": {
        "id": "-uxdnnHkhf-F"
      },
      "source": [
        "### Importancia de la posición de los argumentos"
      ]
    },
    {
      "cell_type": "code",
      "execution_count": null,
      "metadata": {
        "id": "o7HR4g4ThqU_"
      },
      "outputs": [],
      "source": [
        "def describe_pet(animal_type, pet_name):\n",
        "    \"\"\"Display information about a pet.\"\"\"\n",
        "    print(f\"\\nI have a {animal_type}.\")\n",
        "    print(f\"My {animal_type}'s name is {pet_name.title()}.\")\n"
      ]
    },
    {
      "cell_type": "code",
      "execution_count": null,
      "metadata": {
        "colab": {
          "base_uri": "https://localhost:8080/"
        },
        "id": "3BhoaFayhre-",
        "outputId": "8421383d-3178-431f-ed06-a6135ae08773"
      },
      "outputs": [
        {
          "name": "stdout",
          "output_type": "stream",
          "text": [
            "\n",
            "I have a harry.\n",
            "My harry's name is Hamster.\n"
          ]
        }
      ],
      "source": [
        "describe_pet('harry', 'hamster')"
      ]
    },
    {
      "cell_type": "markdown",
      "metadata": {
        "id": "dIj2FL74jEmQ"
      },
      "source": [
        "### Argumentos clave"
      ]
    },
    {
      "cell_type": "code",
      "execution_count": null,
      "metadata": {
        "id": "CVrsI1ozjELB"
      },
      "outputs": [],
      "source": [
        "def describe_pet(animal_type, pet_name):\n",
        "    \"\"\"Display information about a pet.\"\"\"\n",
        "    print(f\"\\nI have a {animal_type}.\")\n",
        "    print(f\"My {animal_type}'s name is {pet_name}.\")\n"
      ]
    },
    {
      "cell_type": "code",
      "execution_count": null,
      "metadata": {
        "colab": {
          "base_uri": "https://localhost:8080/"
        },
        "id": "Xls6fpdYauO8",
        "outputId": "c02e8932-dd32-4160-f41d-a0a7986b1b0f"
      },
      "outputs": [
        {
          "name": "stdout",
          "output_type": "stream",
          "text": [
            "\n",
            "I have a hamster.\n",
            "My hamster's name is Harry.\n"
          ]
        }
      ],
      "source": [
        "describe_pet(pet_name = 'Harry', animal_type = 'hamster')\n"
      ]
    },
    {
      "cell_type": "code",
      "execution_count": null,
      "metadata": {
        "colab": {
          "base_uri": "https://localhost:8080/"
        },
        "id": "J2C9Ba48bGOH",
        "outputId": "02fdc6fe-2d68-4785-fe88-09a574c1123f"
      },
      "outputs": [
        {
          "name": "stdout",
          "output_type": "stream",
          "text": [
            "\n",
            "I have a hamster.\n",
            "My hamster's name is Harry.\n"
          ]
        }
      ],
      "source": [
        "describe_pet(animal_type = 'hamster', pet_name = 'Harry')"
      ]
    },
    {
      "cell_type": "code",
      "execution_count": null,
      "metadata": {
        "colab": {
          "base_uri": "https://localhost:8080/"
        },
        "id": "B3_6pdpWjMm6",
        "outputId": "94ce3ffa-19cb-472a-d09a-e06b0ccb539a"
      },
      "outputs": [
        {
          "name": "stdout",
          "output_type": "stream",
          "text": [
            "\n",
            "I have a hamster.\n",
            "My hamster's name is Harry.\n"
          ]
        }
      ],
      "source": [
        "describe_pet(animal_type='hamster', pet_name='harry')"
      ]
    },
    {
      "cell_type": "code",
      "execution_count": null,
      "metadata": {
        "colab": {
          "base_uri": "https://localhost:8080/"
        },
        "id": "gnHxotr3qZ9f",
        "outputId": "dfaad402-65d9-4c7a-eadd-eb34736bc297"
      },
      "outputs": [
        {
          "name": "stdout",
          "output_type": "stream",
          "text": [
            "\n",
            "I have a hamster.\n",
            "My hamster's name is Harry.\n",
            "\n",
            "I have a hamster.\n",
            "My hamster's name is Harry.\n"
          ]
        }
      ],
      "source": [
        "describe_pet(animal_type='hamster', pet_name='harry')\n",
        "describe_pet(pet_name='harry', animal_type='hamster')"
      ]
    },
    {
      "cell_type": "markdown",
      "metadata": {
        "id": "b4OI6nMUqdw5"
      },
      "source": [
        "### Valores por default"
      ]
    },
    {
      "cell_type": "code",
      "execution_count": null,
      "metadata": {
        "id": "JZKYMn3Tbk-2"
      },
      "outputs": [],
      "source": [
        "def describe_pet(pet_name, animal_type='dog'):\n",
        "    \"\"\"Display information about a pet.\"\"\"\n",
        "    print(f\"\\nI have a {animal_type}.\")\n",
        "    print(f\"My {animal_type}'s name is {pet_name.title()}.\")\n",
        "                 "
      ]
    },
    {
      "cell_type": "code",
      "execution_count": null,
      "metadata": {
        "id": "dmslcStyqhQf"
      },
      "outputs": [],
      "source": [
        "def describe_pet(pet_name, animal_type='dog'):\n",
        "    \"\"\"Display information about a pet.\"\"\"\n",
        "    print(f\"\\nI have a {animal_type}.\")\n",
        "    print(f\"My {animal_type}'s name is {pet_name.title()}.\")\n"
      ]
    },
    {
      "cell_type": "code",
      "execution_count": null,
      "metadata": {
        "colab": {
          "base_uri": "https://localhost:8080/"
        },
        "id": "fTkw_ZRbqmCn",
        "outputId": "fd90dc16-eb3f-4d0a-d696-70005a0545bf"
      },
      "outputs": [
        {
          "name": "stdout",
          "output_type": "stream",
          "text": [
            "\n",
            "I have a dog.\n",
            "My dog's name is Willie.\n"
          ]
        }
      ],
      "source": [
        "describe_pet(pet_name='willie')"
      ]
    },
    {
      "cell_type": "code",
      "execution_count": null,
      "metadata": {
        "id": "53Px7ITvqyBg"
      },
      "outputs": [],
      "source": [
        "describe_pet('willie')"
      ]
    },
    {
      "cell_type": "code",
      "execution_count": null,
      "metadata": {
        "colab": {
          "base_uri": "https://localhost:8080/"
        },
        "id": "Wsvo5SVorE6-",
        "outputId": "7ad7cdb8-a681-4e5f-e669-f5b50673ca1e"
      },
      "outputs": [
        {
          "name": "stdout",
          "output_type": "stream",
          "text": [
            "\n",
            "I have a hamster.\n",
            "My hamster's name is Harry.\n"
          ]
        }
      ],
      "source": [
        "describe_pet(pet_name='harry', animal_type='hamster')"
      ]
    },
    {
      "cell_type": "markdown",
      "metadata": {
        "id": "Qli40ml8rNEu"
      },
      "source": [
        "### Llamadas a funciones equivalentes"
      ]
    },
    {
      "cell_type": "code",
      "execution_count": null,
      "metadata": {
        "colab": {
          "base_uri": "https://localhost:8080/"
        },
        "id": "gRzBSP1JrrIp",
        "outputId": "4604209d-cf07-4f97-ea96-48252d9e3426"
      },
      "outputs": [
        {
          "name": "stdout",
          "output_type": "stream",
          "text": [
            "\n",
            "I have a dog.\n",
            "My dog's name is Willie.\n",
            "\n",
            "I have a dog.\n",
            "My dog's name is Willie.\n"
          ]
        }
      ],
      "source": [
        "# Un perro llamado Willie.\n",
        "describe_pet('willie')\n",
        "describe_pet(pet_name='willie')"
      ]
    },
    {
      "cell_type": "code",
      "execution_count": null,
      "metadata": {
        "colab": {
          "base_uri": "https://localhost:8080/"
        },
        "id": "sUY0rHqYrQ8n",
        "outputId": "d96696f1-4d77-4fd2-f107-0e2aa2904bc9"
      },
      "outputs": [
        {
          "name": "stdout",
          "output_type": "stream",
          "text": [
            "\n",
            "I have a hamster.\n",
            "My hamster's name is Harry.\n",
            "\n",
            "I have a hamster.\n",
            "My hamster's name is Harry.\n",
            "\n",
            "I have a hamster.\n",
            "My hamster's name is Harry.\n"
          ]
        }
      ],
      "source": [
        "# un hamster llamado Harry.\n",
        "describe_pet('harry', 'hamster')\n",
        "describe_pet(pet_name='harry', animal_type='hamster')\n",
        "describe_pet(animal_type='hamster', pet_name='harry')\n"
      ]
    },
    {
      "cell_type": "markdown",
      "metadata": {
        "id": "21XnPX-tssX5"
      },
      "source": [
        "### Evitar errores de argumento"
      ]
    },
    {
      "cell_type": "code",
      "execution_count": null,
      "metadata": {
        "colab": {
          "base_uri": "https://localhost:8080/",
          "height": 166
        },
        "id": "-IP0e-bDrkhC",
        "outputId": "63b5965c-b945-46b4-fac7-8c1fdd6c0c35"
      },
      "outputs": [
        {
          "ename": "TypeError",
          "evalue": "ignored",
          "output_type": "error",
          "traceback": [
            "\u001b[0;31m---------------------------------------------------------------------------\u001b[0m",
            "\u001b[0;31mTypeError\u001b[0m                                 Traceback (most recent call last)",
            "\u001b[0;32m<ipython-input-44-f95e5f55e3d1>\u001b[0m in \u001b[0;36m<module>\u001b[0;34m()\u001b[0m\n\u001b[0;32m----> 1\u001b[0;31m \u001b[0mdescribe_pet\u001b[0m\u001b[0;34m(\u001b[0m\u001b[0;34m)\u001b[0m\u001b[0;34m\u001b[0m\u001b[0;34m\u001b[0m\u001b[0m\n\u001b[0m",
            "\u001b[0;31mTypeError\u001b[0m: describe_pet() missing 1 required positional argument: 'pet_name'"
          ]
        }
      ],
      "source": [
        "describe_pet()"
      ]
    },
    {
      "cell_type": "markdown",
      "metadata": {
        "id": "ixT6ac8IrM_m"
      },
      "source": [
        "---\n",
        "\n",
        "<b> Ejercicio 1</b>\n",
        "\n",
        "Escribe una función llamada **make_shirt()** que acepte un tamaño y el texto de un mensaje que debería estar impreso en la camiseta. La función debe imprimir una oración que resuma el tamaño de la camisa y el mensaje impreso en ella.\n",
        "\n",
        "Llame a la función una vez usando argumentos posicionales para hacer una camisa. Llame a la función por segunda vez usando argumentos de palabras clave.\n"
      ]
    },
    {
      "cell_type": "code",
      "execution_count": null,
      "metadata": {
        "id": "WUH6093hetPR"
      },
      "outputs": [],
      "source": [
        "def make_shirt(size, message):\n",
        "  \"\"\"La función imprime una oración que resume el tamaño de la camiseta y el mensaje impreso en ella.\"\"\"\n",
        "  print(f'El tamaño de la camiseta es {size} y el mensaje será \"{message}\".')\n",
        "\n"
      ]
    },
    {
      "cell_type": "code",
      "execution_count": null,
      "metadata": {
        "colab": {
          "base_uri": "https://localhost:8080/"
        },
        "id": "QDgZRP4afUb4",
        "outputId": "7bfab592-6f5d-409e-d188-70c66b69e4ed"
      },
      "outputs": [
        {
          "name": "stdout",
          "output_type": "stream",
          "text": [
            "El tamaño de la camiseta es 30 y el mensaje será \"Yo amo Python\".\n"
          ]
        }
      ],
      "source": [
        "make_shirt('30', 'Yo amo Python')"
      ]
    },
    {
      "cell_type": "code",
      "execution_count": null,
      "metadata": {
        "colab": {
          "base_uri": "https://localhost:8080/"
        },
        "id": "9vRwPzcyfkad",
        "outputId": "4c37442e-10c5-42ab-ef1f-76f3e38109d6"
      },
      "outputs": [
        {
          "name": "stdout",
          "output_type": "stream",
          "text": [
            "El tamaño de la camiseta es 30 y el mensaje será \"Yo amo Python\".\n"
          ]
        }
      ],
      "source": [
        "make_shirt(size = '30', message = 'Yo amo Python')"
      ]
    },
    {
      "cell_type": "markdown",
      "metadata": {
        "id": "SFKpbJpntvpg"
      },
      "source": [
        "---\n",
        "\n",
        "<b> Ejercicio 2</b>\n",
        "\n",
        "Modifique la función **make_shirt()** para que las camisetas sean grandes por defecto con un mensaje que diga Me encanta Python. Haz una camiseta grande y una camiseta mediana con el mensaje predeterminado y una camiseta de cualquier tamaño con un mensaje diferente.\n"
      ]
    },
    {
      "cell_type": "code",
      "execution_count": null,
      "metadata": {
        "id": "wQnffLX4fzcB"
      },
      "outputs": [],
      "source": [
        "def make_shirt(size = 'grande', message = 'Me encanta Python'):\n",
        "  \"\"\"La función imprime una oración que resume el tamaño de la camiseta y el mensaje impreso en ella.\"\"\"\n",
        "  print(f'El tamaño de la camiseta es {size} y el mensaje será \"{message}\".')\n",
        "\n"
      ]
    },
    {
      "cell_type": "code",
      "execution_count": null,
      "metadata": {
        "colab": {
          "base_uri": "https://localhost:8080/"
        },
        "id": "31XFUoySf-Ik",
        "outputId": "e8c9ad39-4a38-420a-b997-e3d510588186"
      },
      "outputs": [
        {
          "name": "stdout",
          "output_type": "stream",
          "text": [
            "El tamaño de la camiseta es grande y el mensaje será \"Me encanta Python\".\n"
          ]
        }
      ],
      "source": [
        "make_shirt()"
      ]
    },
    {
      "cell_type": "code",
      "execution_count": null,
      "metadata": {
        "colab": {
          "base_uri": "https://localhost:8080/"
        },
        "id": "-kZMAQ8ggEVy",
        "outputId": "38813046-cf13-4d28-a0fd-2af641262726"
      },
      "outputs": [
        {
          "name": "stdout",
          "output_type": "stream",
          "text": [
            "El tamaño de la camiseta es mediano y el mensaje será \"Me encanta Python\".\n"
          ]
        }
      ],
      "source": [
        "make_shirt(size = 'mediano')"
      ]
    },
    {
      "cell_type": "code",
      "execution_count": null,
      "metadata": {
        "colab": {
          "base_uri": "https://localhost:8080/"
        },
        "id": "ML-wEYnOgIcu",
        "outputId": "f7bfc549-efe0-4f76-d43d-e352a3ada741"
      },
      "outputs": [
        {
          "name": "stdout",
          "output_type": "stream",
          "text": [
            "El tamaño de la camiseta es pequeño y el mensaje será \"I like google colab\".\n"
          ]
        }
      ],
      "source": [
        "make_shirt(message = 'I like google colab', size = 'pequeño')"
      ]
    },
    {
      "cell_type": "markdown",
      "metadata": {
        "id": "G0qpoz40uBJt"
      },
      "source": [
        "---\n",
        "\n",
        "<b> Ejercicio 3</b>\n",
        "\n",
        "Escribe una función llamada **describe_city()** que acepte el nombre de una ciudad y su país. La función debe imprimir una oración simple, como Reykjavik está en Islandia. Asigne al parámetro para el país un valor predeterminado. Llame a su función para tres ciudades diferentes, al menos una de las cuales no se encuentra en el país predeterminado.\n",
        "\n",
        "----"
      ]
    },
    {
      "cell_type": "code",
      "execution_count": null,
      "metadata": {
        "id": "wYkmaCJTgYzQ"
      },
      "outputs": [],
      "source": [
        "def describe_city(city, country = 'Perú'):\n",
        "  \"\"\"This function display a city with it's country\"\"\"\n",
        "  print(f'{city} esta en {country}')\n",
        "  "
      ]
    },
    {
      "cell_type": "code",
      "execution_count": null,
      "metadata": {
        "colab": {
          "base_uri": "https://localhost:8080/"
        },
        "id": "yG4HIzFVg2b-",
        "outputId": "a61af117-93ae-4904-81f0-f20258d35e2f"
      },
      "outputs": [
        {
          "name": "stdout",
          "output_type": "stream",
          "text": [
            "Lima esta en Perú\n"
          ]
        }
      ],
      "source": [
        "describe_city('Lima')"
      ]
    },
    {
      "cell_type": "code",
      "execution_count": null,
      "metadata": {
        "colab": {
          "base_uri": "https://localhost:8080/"
        },
        "id": "gnw4dg72g8bB",
        "outputId": "6c55bd71-e713-46be-d3a5-8a0a598fdf63"
      },
      "outputs": [
        {
          "name": "stdout",
          "output_type": "stream",
          "text": [
            "Arequipa esta en Perú\n"
          ]
        }
      ],
      "source": [
        "describe_city(city = 'Arequipa')"
      ]
    },
    {
      "cell_type": "code",
      "execution_count": null,
      "metadata": {
        "colab": {
          "base_uri": "https://localhost:8080/"
        },
        "id": "kOtceq7bhBRh",
        "outputId": "6022a32b-14a3-43f4-df1c-b2080de2b196"
      },
      "outputs": [
        {
          "name": "stdout",
          "output_type": "stream",
          "text": [
            "Buenos aires esta en Argentina\n"
          ]
        }
      ],
      "source": [
        "describe_city(city = 'Buenos aires', country = 'Argentina')"
      ]
    },
    {
      "cell_type": "markdown",
      "metadata": {
        "id": "KvclreKqv6oG"
      },
      "source": [
        "# 3. Valores de retorno"
      ]
    },
    {
      "cell_type": "markdown",
      "metadata": {
        "id": "4MH4CoJqwGiI"
      },
      "source": [
        "### Retornando un valor simple"
      ]
    },
    {
      "cell_type": "code",
      "execution_count": null,
      "metadata": {
        "id": "17hSBuN4hXzj"
      },
      "outputs": [],
      "source": [
        "def suma(a, b):\n",
        "  \"\"\"this function add two values\"\"\"\n",
        "  resultado = a + b\n",
        "  return resultado\n",
        "  "
      ]
    },
    {
      "cell_type": "code",
      "execution_count": null,
      "metadata": {
        "colab": {
          "base_uri": "https://localhost:8080/"
        },
        "id": "FSesr4GnhzX2",
        "outputId": "6cb6d44b-b8e9-4e6c-ef90-9e8de4a088ba"
      },
      "outputs": [
        {
          "data": {
            "text/plain": [
              "24"
            ]
          },
          "execution_count": 60,
          "metadata": {},
          "output_type": "execute_result"
        }
      ],
      "source": [
        "suma(9, 15)"
      ]
    },
    {
      "cell_type": "code",
      "execution_count": null,
      "metadata": {
        "colab": {
          "base_uri": "https://localhost:8080/"
        },
        "id": "EsOHxS11hXiq",
        "outputId": "63ce18ad-e5e3-4cda-d897-85d83a34020f"
      },
      "outputs": [
        {
          "data": {
            "text/plain": [
              "50"
            ]
          },
          "execution_count": 63,
          "metadata": {},
          "output_type": "execute_result"
        }
      ],
      "source": [
        "sum_res = suma(10, 15)\n",
        "sum_res*2"
      ]
    },
    {
      "cell_type": "code",
      "execution_count": null,
      "metadata": {
        "id": "tclx-QIeuAo1"
      },
      "outputs": [],
      "source": [
        "\n",
        "def get_formatted_name(first_name, last_name):\n",
        "    \"\"\"Return a full name, neatly formatted.\"\"\"\n",
        "    full_name = f\"{first_name} {last_name}\"\n",
        "    return full_name.title()\n"
      ]
    },
    {
      "cell_type": "code",
      "execution_count": null,
      "metadata": {
        "colab": {
          "base_uri": "https://localhost:8080/",
          "height": 35
        },
        "id": "hXeLNupPiWmg",
        "outputId": "640357cf-7f12-4c69-bfb4-042f6475c68d"
      },
      "outputs": [
        {
          "data": {
            "application/vnd.google.colaboratory.intrinsic+json": {
              "type": "string"
            },
            "text/plain": [
              "'Jimi Hendrix'"
            ]
          },
          "execution_count": 65,
          "metadata": {},
          "output_type": "execute_result"
        }
      ],
      "source": [
        "get_formatted_name('jimi', 'hendrix')"
      ]
    },
    {
      "cell_type": "code",
      "execution_count": null,
      "metadata": {
        "id": "C5YJZL-VibbL"
      },
      "outputs": [],
      "source": [
        "musician = get_formatted_name('jimi', 'hendrix')"
      ]
    },
    {
      "cell_type": "code",
      "execution_count": null,
      "metadata": {
        "colab": {
          "base_uri": "https://localhost:8080/"
        },
        "id": "6ddSYS13iiQY",
        "outputId": "d9e38db4-45b0-42f7-a41e-a799566a757e"
      },
      "outputs": [
        {
          "name": "stdout",
          "output_type": "stream",
          "text": [
            "Jimi Hendrix\n"
          ]
        }
      ],
      "source": [
        "print(musician)"
      ]
    },
    {
      "cell_type": "code",
      "execution_count": null,
      "metadata": {
        "colab": {
          "base_uri": "https://localhost:8080/"
        },
        "id": "27sXBuEKwOim",
        "outputId": "b28dc49e-f353-4291-9df7-a777de9ae4f5"
      },
      "outputs": [
        {
          "name": "stdout",
          "output_type": "stream",
          "text": [
            "Jimi Hendrix\n"
          ]
        }
      ],
      "source": [
        "musician = get_formatted_name('jimi', 'hendrix')\n",
        "print(musician)"
      ]
    },
    {
      "cell_type": "markdown",
      "metadata": {
        "id": "nao5U4jDw4jG"
      },
      "source": [
        "### Argumento opcional"
      ]
    },
    {
      "cell_type": "code",
      "execution_count": null,
      "metadata": {
        "id": "EeNB31AJw33c"
      },
      "outputs": [],
      "source": [
        "def get_formatted_name(first_name, middle_name, last_name):\n",
        "    \"\"\"Return a full name, neatly formatted.\"\"\"\n",
        "    full_name = f\"{first_name} {middle_name} {last_name}\"\n",
        "    return full_name.title()\n"
      ]
    },
    {
      "cell_type": "code",
      "execution_count": null,
      "metadata": {
        "colab": {
          "base_uri": "https://localhost:8080/"
        },
        "id": "vAPRn5tyw-Hf",
        "outputId": "e5bb79c6-a9c5-44cf-da7c-34b7f84db2f7"
      },
      "outputs": [
        {
          "name": "stdout",
          "output_type": "stream",
          "text": [
            "John Lee Hooker\n"
          ]
        }
      ],
      "source": [
        "musician = get_formatted_name('john', 'lee', 'hooker')\n",
        "print(musician)"
      ]
    },
    {
      "cell_type": "code",
      "execution_count": null,
      "metadata": {
        "id": "_dFbUYqVjA_T"
      },
      "outputs": [],
      "source": [
        "def get_formatted_name(first_name, last_name, middle_name=''):\n",
        "  \"\"\"Return a full name\"\"\"\n",
        "  if middle_name:\n",
        "    full_name = f\"{first_name} {middle_name} {last_name}\"\n",
        "  else:\n",
        "    full_name = f\"{first_name} {last_name}\"\n",
        "  return full_name\n"
      ]
    },
    {
      "cell_type": "code",
      "execution_count": null,
      "metadata": {
        "id": "8DUIP8RNx0ep"
      },
      "outputs": [],
      "source": [
        "def get_formatted_name(first_name, last_name, middle_name=''):\n",
        "  \"\"\"Return a full name, neatly formatted.\"\"\"\n",
        "  if middle_name:\n",
        "    full_name = f\"{first_name} {middle_name} {last_name}\"\n",
        "  else:\n",
        "    full_name = f\"{first_name} {last_name}\"\n",
        "  return full_name.title()\n",
        "  "
      ]
    },
    {
      "cell_type": "code",
      "execution_count": null,
      "metadata": {
        "colab": {
          "base_uri": "https://localhost:8080/"
        },
        "id": "4AVIjrmZyFAA",
        "outputId": "da597ffa-3c3d-4a56-8d56-f50bc002644b"
      },
      "outputs": [
        {
          "name": "stdout",
          "output_type": "stream",
          "text": [
            "jimi hendrix\n"
          ]
        }
      ],
      "source": [
        "musician = get_formatted_name('jimi', 'hendrix')\n",
        "print(musician)"
      ]
    },
    {
      "cell_type": "code",
      "execution_count": null,
      "metadata": {
        "colab": {
          "base_uri": "https://localhost:8080/"
        },
        "id": "MdzB5-zhzC47",
        "outputId": "681262de-9532-4ea8-ab5d-4ffe9a105837"
      },
      "outputs": [
        {
          "name": "stdout",
          "output_type": "stream",
          "text": [
            "john lee hooker\n"
          ]
        }
      ],
      "source": [
        "musician = get_formatted_name('john', 'hooker', 'lee')\n",
        "print(musician)"
      ]
    },
    {
      "cell_type": "markdown",
      "metadata": {
        "id": "vpguPIrPzgtU"
      },
      "source": [
        "### Retornar un diccionario"
      ]
    },
    {
      "cell_type": "code",
      "execution_count": null,
      "metadata": {
        "id": "WRoRgzkKk6or"
      },
      "outputs": [],
      "source": [
        "my_dict = {'EN01': \"Clases de ingles\",\n",
        "           'PY02': \"Clases de python\",\n",
        "           'MU03': \"Clases de musica\"}\n",
        "\n"
      ]
    },
    {
      "cell_type": "code",
      "execution_count": null,
      "metadata": {
        "colab": {
          "base_uri": "https://localhost:8080/",
          "height": 35
        },
        "id": "5OPHWg2llbFL",
        "outputId": "8b4a981b-59b0-4807-fefc-11cfe17afad7"
      },
      "outputs": [
        {
          "data": {
            "application/vnd.google.colaboratory.intrinsic+json": {
              "type": "string"
            },
            "text/plain": [
              "'Clases de python'"
            ]
          },
          "execution_count": 78,
          "metadata": {},
          "output_type": "execute_result"
        }
      ],
      "source": [
        "my_dict['PY02']"
      ]
    },
    {
      "cell_type": "code",
      "execution_count": null,
      "metadata": {
        "id": "EbgvJud4lxiF"
      },
      "outputs": [],
      "source": [
        "my_dict['DA04'] = \"Clases de danza\""
      ]
    },
    {
      "cell_type": "code",
      "execution_count": null,
      "metadata": {
        "colab": {
          "base_uri": "https://localhost:8080/"
        },
        "id": "zUESmXDgl471",
        "outputId": "bd6bbe37-d68c-40f7-ba00-c49140b46c66"
      },
      "outputs": [
        {
          "data": {
            "text/plain": [
              "{'DA04': 'Clases de danza',\n",
              " 'EN01': 'Clases de ingles',\n",
              " 'MU03': 'Clases de musica',\n",
              " 'PY02': 'Clases de python'}"
            ]
          },
          "execution_count": 80,
          "metadata": {},
          "output_type": "execute_result"
        }
      ],
      "source": [
        "my_dict"
      ]
    },
    {
      "cell_type": "code",
      "execution_count": null,
      "metadata": {
        "id": "YI9nCBdEzxk0"
      },
      "outputs": [],
      "source": [
        "def build_person(first_name, last_name):\n",
        "  \"\"\"Return a dictionary of information about a person.\"\"\"\n",
        "  person = {'first': first_name, 'last': last_name}\n",
        "  return person\n"
      ]
    },
    {
      "cell_type": "code",
      "execution_count": null,
      "metadata": {
        "colab": {
          "base_uri": "https://localhost:8080/"
        },
        "id": "z2mXqnXI0Jet",
        "outputId": "92b02270-ea81-46a0-df1a-09140f87b429"
      },
      "outputs": [
        {
          "name": "stdout",
          "output_type": "stream",
          "text": [
            "{'first': 'jimi', 'last': 'hendrix'}\n"
          ]
        }
      ],
      "source": [
        "musician = build_person('jimi', 'hendrix')\n",
        "print(musician)"
      ]
    },
    {
      "cell_type": "code",
      "execution_count": null,
      "metadata": {
        "id": "3Pw2MCrY0gqb"
      },
      "outputs": [],
      "source": [
        "def build_person(first_name, last_name, age=None):\n",
        "    \"\"\"Return a dictionary of information about a person.\"\"\"\n",
        "    person = {'first': first_name, 'last': last_name}\n",
        "    if age:\n",
        "        person['age'] = age\n",
        "    return person\n"
      ]
    },
    {
      "cell_type": "code",
      "execution_count": null,
      "metadata": {
        "colab": {
          "base_uri": "https://localhost:8080/"
        },
        "id": "_7hf5yuE0iS0",
        "outputId": "ab3c8af8-d40b-42f3-d0c6-14db59973e56"
      },
      "outputs": [
        {
          "name": "stdout",
          "output_type": "stream",
          "text": [
            "{'first': 'jimi', 'last': 'hendrix', 'age': 27}\n"
          ]
        }
      ],
      "source": [
        "musician = build_person('jimi', 'hendrix', age=27)\n",
        "print(musician)"
      ]
    },
    {
      "cell_type": "code",
      "execution_count": null,
      "metadata": {
        "colab": {
          "base_uri": "https://localhost:8080/"
        },
        "id": "524-cV8DnDs2",
        "outputId": "a892d087-2ab4-4494-ce21-438cc321eb90"
      },
      "outputs": [
        {
          "name": "stdout",
          "output_type": "stream",
          "text": [
            "{'first': 'jimi', 'last': 'hendrix'}\n"
          ]
        }
      ],
      "source": [
        "musician = build_person('jimi', 'hendrix')\n",
        "print(musician)"
      ]
    },
    {
      "cell_type": "markdown",
      "metadata": {
        "id": "tSAkV-as0rdS"
      },
      "source": [
        "# 4. Usando funciones con loops while"
      ]
    },
    {
      "cell_type": "code",
      "execution_count": null,
      "metadata": {
        "id": "c0OXOywJ1G3J"
      },
      "outputs": [],
      "source": [
        "def get_formatted_name(first_name, last_name):\n",
        "    \"\"\"Return a full name, neatly formatted.\"\"\"\n",
        "    full_name = f\"{first_name} {last_name}\"\n",
        "    return full_name\n"
      ]
    },
    {
      "cell_type": "code",
      "execution_count": null,
      "metadata": {
        "id": "zcGug0pB1IXp"
      },
      "outputs": [],
      "source": [
        "\n",
        "# Este es un loop infinito!\n",
        "while True:\n",
        "    print(\"\\nPlease tell me your name:\")\n",
        "    f_name = input(\"First name: \")\n",
        "    l_name = input(\"Last name: \")\n",
        "    formatted_name = get_formatted_name(f_name, l_name)\n",
        "    print(f\"\\nHello, {formatted_name}!\")\n"
      ]
    },
    {
      "cell_type": "code",
      "execution_count": null,
      "metadata": {
        "colab": {
          "base_uri": "https://localhost:8080/"
        },
        "id": "s6o4iZze1INO",
        "outputId": "1f342c0b-e19d-4d94-98f8-9da611a16abc"
      },
      "outputs": [
        {
          "name": "stdout",
          "output_type": "stream",
          "text": [
            "\n",
            "Please tell me your name:\n",
            "(enter 'quit' at any time to quit)\n",
            "First name: John\n",
            "Last name: Caballero\n",
            "\n",
            "Hello, John Caballero!\n",
            "\n",
            "Please tell me your name:\n",
            "(enter 'quit' at any time to quit)\n",
            "First name: quit\n"
          ]
        }
      ],
      "source": [
        "def get_formatted_name(first_name, last_name):\n",
        "    \"\"\"Return a full name, neatly formatted.\"\"\"\n",
        "    full_name = f\"{first_name} {last_name}\"\n",
        "    return full_name\n",
        "\n",
        "while True:\n",
        "    print(\"\\nPlease tell me your name:\")\n",
        "    print(\"(enter 'quit' at any time to quit)\")\n",
        "\n",
        "    f_name = input(\"First name: \")\n",
        "    if f_name == 'quit':\n",
        "        break\n",
        "\n",
        "    l_name = input(\"Last name: \")\n",
        "    if l_name == 'quit':\n",
        "        break\n",
        "\n",
        "    formatted_name = get_formatted_name(f_name, l_name)\n",
        "    print(f\"\\nHello, {formatted_name}!\")\n",
        "    "
      ]
    },
    {
      "cell_type": "markdown",
      "metadata": {
        "id": "WtFtOrbS4BzE"
      },
      "source": [
        "---\n",
        "\n",
        "<b> Ejercicio 1</b>\n",
        "\n",
        "Escribe una función llamada **city_country()** que tome el nombre de una ciudad y su país. La función debería devolver una cadena con el formato siguiente:\n",
        "\n",
        "\"Santiago, Chile\"\n",
        "\n",
        "Llame a su función con al menos tres pares de ciudades y países e imprima los valores que se devuelven.\n"
      ]
    },
    {
      "cell_type": "code",
      "execution_count": null,
      "metadata": {
        "id": "WSb8L5D2yJwU"
      },
      "outputs": [],
      "source": [
        "def city_country(city, country):\n",
        "   \"\"\" This funtion returns a city and a country\"\"\"\n",
        "   full_name = f\" {city}, {country} \"\n",
        "   return full_name.title()"
      ]
    },
    {
      "cell_type": "code",
      "execution_count": null,
      "metadata": {
        "colab": {
          "base_uri": "https://localhost:8080/"
        },
        "id": "Bac1j8Zprp1P",
        "outputId": "fe8cc8ce-c7e1-4a61-c3e1-a32757d94db1"
      },
      "outputs": [
        {
          "name": "stdout",
          "output_type": "stream",
          "text": [
            " Buenos Aires, Argentina \n",
            " Montevideo, Uruguay \n",
            " Barcelona, España \n"
          ]
        }
      ],
      "source": [
        "print(city_country(city = 'buenos aires', country = 'argentina'))\n",
        "print(city_country(city = 'montevideo', country = 'uruguay'))\n",
        "print(city_country(city = 'barcelona', country = 'españa'))"
      ]
    },
    {
      "cell_type": "markdown",
      "metadata": {
        "id": "z06Pz7sy4YG0"
      },
      "source": [
        "---\n",
        "\n",
        "<b> Ejercicio 2</b>\n",
        "\n",
        "Escriba una función llamada **make_album()** que cree un diccionario que describa un álbum de música. La función debe tomar el nombre de un artista y el título de un álbum, y debe devolver un diccionario que contenga estos dos datos. Utilice la función para crear tres diccionarios que representen diferentes álbumes. Imprima cada valor devuelto para mostrar que los diccionarios están almacenando la información del álbum correctamente.\n",
        "\n",
        "Use <b>None</b> para agregar un parámetro opcional a **make_album()** que le permita almacenar la cantidad de canciones en un álbum. Si la línea de llamada incluye un valor para la cantidad de canciones, agregue ese valor al diccionario del álbum. Realice al menos una nueva llamada de función que incluya la cantidad de canciones en un álbum."
      ]
    },
    {
      "cell_type": "code",
      "execution_count": null,
      "metadata": {
        "id": "r4CBV6bWtPJo"
      },
      "outputs": [],
      "source": [
        "def make_album(nom_artista, titulo, numero = None):\n",
        "    album = {'nombre': nom_artista, 'cancion': titulo}\n",
        "    if numero:\n",
        "      album['numero'] = numero\n",
        "    return album\n"
      ]
    },
    {
      "cell_type": "code",
      "execution_count": null,
      "metadata": {
        "colab": {
          "base_uri": "https://localhost:8080/"
        },
        "id": "Igb7E8fpuSle",
        "outputId": "59d040d0-8f4d-4809-8f85-d8e457384cf0"
      },
      "outputs": [
        {
          "data": {
            "text/plain": [
              "{'nombre': 'Queen', 'cancion': 'We are the champions', 'numero': 5}"
            ]
          },
          "execution_count": 11,
          "metadata": {},
          "output_type": "execute_result"
        }
      ],
      "source": [
        "make_album('Queen', 'We are the champions', 5)"
      ]
    },
    {
      "cell_type": "code",
      "execution_count": null,
      "metadata": {
        "colab": {
          "base_uri": "https://localhost:8080/"
        },
        "id": "ZfSFdO2ZuSVM",
        "outputId": "dda9ea93-d81c-4f1b-e5f4-fb95ee006949"
      },
      "outputs": [
        {
          "data": {
            "text/plain": [
              "{'nombre': 'Kiss', 'cancion': 'We are the champions'}"
            ]
          },
          "execution_count": 12,
          "metadata": {},
          "output_type": "execute_result"
        }
      ],
      "source": [
        "make_album('Kiss', 'We are the champions')"
      ]
    },
    {
      "cell_type": "markdown",
      "metadata": {
        "id": "5iazrd6w5n-m"
      },
      "source": [
        "---\n",
        "\n",
        "<b> Ejercicio 3</b>\n",
        "\n",
        "Comience con su programa del ejercicio anterior. Escriba un ciclo while que permita a los usuarios ingresar el artista y el título de un álbum. Una vez que tenga esa información, llame a **make_album()** con la entrada del usuario e imprima el diccionario que se crea. Asegúrese de incluir un valor de salida en el ciclo while.\n",
        "\n",
        "---"
      ]
    },
    {
      "cell_type": "code",
      "execution_count": null,
      "metadata": {
        "colab": {
          "base_uri": "https://localhost:8080/"
        },
        "id": "JIa9Qq32u8yT",
        "outputId": "4016888f-942d-484b-be63-ae696c91bddb"
      },
      "outputs": [
        {
          "name": "stdout",
          "output_type": "stream",
          "text": [
            "Escriba quit si desea salir\n",
            "Escriba quit si desea salir\n",
            "Escriba quit si desea salir\n"
          ]
        }
      ],
      "source": [
        "def make_album(artista, album, canciones=None):\n",
        "    \"\"\"La función devuelve la descripción de un album de musica.\"\"\"\n",
        "    musica = {'art': artista, 'alb' : album}\n",
        "    if canciones:\n",
        "         musica['canciones'] = canciones\n",
        "    return musica\n",
        "\n",
        "while True:\n",
        "  print(\"Escriba quit si desea salir\")\n",
        "\n",
        "  f_artistas = input(\"Artista: \")\n",
        "  if f_artistas =='salir':\n",
        "     break\n",
        "\n",
        "  f_albumes = input(\"Album: \")\n",
        "  if f_albumes == 'salir':\n",
        "     break\n",
        "  f_cancioness = input(\"Canciones: \")\n",
        "  if f_cancioness == 'salir':\n",
        "     break\n",
        "  disco = make_album(f_artistas, f_albumes, f_cancioness)\n",
        "  disco"
      ]
    },
    {
      "cell_type": "markdown",
      "metadata": {
        "id": "pdvnfTPo6-Lq"
      },
      "source": [
        "# 5. Usando Listas"
      ]
    },
    {
      "cell_type": "code",
      "execution_count": null,
      "metadata": {
        "id": "4dRXDc0j1Cbw"
      },
      "outputs": [],
      "source": [
        "def greet_users(names):\n",
        "    \"\"\"Print a simple greeting to each user in the list.\"\"\"\n",
        "    for name in names:\n",
        "      msg = f\"Hola, {name}!\"\n",
        "      print(msg)"
      ]
    },
    {
      "cell_type": "code",
      "execution_count": null,
      "metadata": {
        "colab": {
          "base_uri": "https://localhost:8080/"
        },
        "id": "p9ZGdx5H1Smm",
        "outputId": "fe75fdc6-b1c2-4137-a2e8-57098b6d13e7"
      },
      "outputs": [
        {
          "name": "stdout",
          "output_type": "stream",
          "text": [
            "Hola, John!\n",
            "Hola, Tamara!\n",
            "Hola, Fernando!\n"
          ]
        }
      ],
      "source": [
        "greet_users(['John', 'Tamara', 'Fernando'])"
      ]
    },
    {
      "cell_type": "code",
      "execution_count": null,
      "metadata": {
        "id": "BGbejE2r4A1P"
      },
      "outputs": [],
      "source": [
        "def greet_users(names):\n",
        "    \"\"\"Print a simple greeting to each user in the list.\"\"\"\n",
        "    for name in names:\n",
        "        msg = f\"Hello, {name.title()}!\"\n",
        "        print(msg)\n"
      ]
    },
    {
      "cell_type": "code",
      "execution_count": null,
      "metadata": {
        "id": "TfEjqeW08hQV"
      },
      "outputs": [],
      "source": [
        "usernames = ['hannah', 'ty', 'margot']\n",
        "greet_users(usernames)"
      ]
    },
    {
      "cell_type": "markdown",
      "metadata": {
        "id": "irQJwQco81wH"
      },
      "source": [
        "### Modificar una lista en una función"
      ]
    },
    {
      "cell_type": "code",
      "execution_count": null,
      "metadata": {
        "colab": {
          "base_uri": "https://localhost:8080/"
        },
        "id": "XqjKX2vW2Djg",
        "outputId": "a5b9f0c1-24d1-44b5-83dd-de3ba1f59259"
      },
      "outputs": [
        {
          "data": {
            "text/plain": [
              "['phone case', 'robot pendant', 'dodecahedron']"
            ]
          },
          "execution_count": 97,
          "metadata": {},
          "output_type": "execute_result"
        }
      ],
      "source": [
        "unprinted_designs = ['phone case', 'robot pendant', 'dodecahedron']\n",
        "unprinted_designs"
      ]
    },
    {
      "cell_type": "code",
      "execution_count": null,
      "metadata": {
        "id": "-i80y_zF2Bed"
      },
      "outputs": [],
      "source": [
        "unprinted_designs.pop()\n"
      ]
    },
    {
      "cell_type": "code",
      "execution_count": null,
      "metadata": {
        "colab": {
          "base_uri": "https://localhost:8080/"
        },
        "id": "pmlp8rXN2Lt6",
        "outputId": "347b3c55-4f31-47e0-91ed-dfa93995b842"
      },
      "outputs": [
        {
          "data": {
            "text/plain": [
              "['phone case', 'robot pendant']"
            ]
          },
          "execution_count": 99,
          "metadata": {},
          "output_type": "execute_result"
        }
      ],
      "source": [
        "unprinted_designs"
      ]
    },
    {
      "cell_type": "code",
      "execution_count": null,
      "metadata": {
        "id": "cGnEviba2fUf"
      },
      "outputs": [],
      "source": [
        "completed_models = []"
      ]
    },
    {
      "cell_type": "code",
      "execution_count": null,
      "metadata": {
        "id": "fdEvjPMq2hBN"
      },
      "outputs": [],
      "source": [
        "completed_models.append('John')"
      ]
    },
    {
      "cell_type": "code",
      "execution_count": null,
      "metadata": {
        "id": "6w1LVHrt2kCw"
      },
      "outputs": [],
      "source": [
        "completed_models"
      ]
    },
    {
      "cell_type": "code",
      "execution_count": null,
      "metadata": {
        "id": "68vDvNTE85BG"
      },
      "outputs": [],
      "source": [
        "# Comience con algunos diseños que deben imprimirse.\n",
        "unprinted_designs = ['phone case', 'robot pendant', 'dodecahedron']\n",
        "completed_models = []\n",
        "\n",
        "# Simule la impresión de cada diseño, hasta que no quede ninguno.\n",
        "# Mueva cada diseño a complete_models después de la impresión.\n",
        "while unprinted_designs:\n",
        "    current_design = unprinted_designs.pop()\n",
        "    print(f\"Printing model: {current_design}\")\n",
        "    completed_models.append(current_design)\n",
        "\n",
        "# Mostrar todos los modelos completados.\n",
        "print(\"\\nThe following models have been printed:\")\n",
        "for completed_model in completed_models:\n",
        "    print(completed_model)"
      ]
    },
    {
      "cell_type": "code",
      "execution_count": null,
      "metadata": {
        "id": "d2v14isCBl7k"
      },
      "outputs": [],
      "source": [
        "\n",
        "def print_models(unprinted_designs, completed_models):\n",
        "    \"\"\"\n",
        "    Simulate printing each design, until none are left.\n",
        "    Move each design to completed_models after printing.\n",
        "    \"\"\"\n",
        "    while unprinted_designs:\n",
        "        current_design = unprinted_designs.pop()\n",
        "        print(f\"Printing model: {current_design}\")\n",
        "        completed_models.append(current_design)\n",
        "\n",
        "def show_completed_models(completed_models):\n",
        "    \"\"\"Show all the models that were printed.\"\"\"\n",
        "    print(\"\\nThe following models have been printed:\")\n",
        "    for completed_model in completed_models:\n",
        "        print(completed_model)\n",
        "\n"
      ]
    },
    {
      "cell_type": "code",
      "execution_count": null,
      "metadata": {
        "id": "3F3aSIhnCJRS"
      },
      "outputs": [],
      "source": [
        "unprinted_designs = ['phone case', 'robot pendant', 'dodecahedron']\n",
        "completed_models = []\n",
        "\n"
      ]
    },
    {
      "cell_type": "code",
      "execution_count": null,
      "metadata": {
        "colab": {
          "base_uri": "https://localhost:8080/"
        },
        "id": "wH-0lGn73esW",
        "outputId": "7207c6ea-e816-46fe-c406-64359f169026"
      },
      "outputs": [
        {
          "name": "stdout",
          "output_type": "stream",
          "text": [
            "Printing model: dodecahedron\n",
            "Printing model: robot pendant\n",
            "Printing model: phone case\n",
            "\n",
            "The following models have been printed:\n",
            "dodecahedron\n",
            "robot pendant\n",
            "phone case\n"
          ]
        }
      ],
      "source": [
        "print_models(unprinted_designs, completed_models)\n",
        "show_completed_models(completed_models)\n"
      ]
    },
    {
      "cell_type": "markdown",
      "metadata": {
        "id": "AxoQ8UkPLzhr"
      },
      "source": [
        "---\n",
        "\n",
        "<b> Ejercicio 1</b>\n",
        "\n",
        "Haz una lista que contenga una serie de mensajes de texto cortos. Pase la lista a una función llamada **show_messages()**, que imprime cada mensaje de texto.\n"
      ]
    },
    {
      "cell_type": "code",
      "execution_count": null,
      "metadata": {
        "colab": {
          "base_uri": "https://localhost:8080/"
        },
        "id": "s0rWgO0K5huY",
        "outputId": "0b7b73b3-b564-4e1c-b0e9-c0f59af9d308"
      },
      "outputs": [
        {
          "name": "stdout",
          "output_type": "stream",
          "text": [
            "hola\n",
            "adios\n",
            "nos vemos\n"
          ]
        }
      ],
      "source": [
        " def show_messages(lista):\n",
        "  \"This function prints all elements in a previous define list\"\n",
        "  for message in lista:\n",
        "    print(message)\n",
        "\n",
        " short_messages = ['hola', 'adios', 'nos vemos' ]\n",
        " show_messages(short_messages)\n"
      ]
    },
    {
      "cell_type": "markdown",
      "metadata": {
        "id": "cr6vkbj-L_4Q"
      },
      "source": [
        "---\n",
        "\n",
        "<b> Ejercicio 2</b>\n",
        "\n",
        "Comience con una copia de su programa del Ejercicio anterior. Escriba una función llamada **send_messages()** que imprima cada mensaje de texto y mueva cada mensaje a una nueva lista llamada sent_messages a medida que se imprime. Después de llamar a la función, imprima ambas listas para asegurarse de que los mensajes se movieron correctamente."
      ]
    },
    {
      "cell_type": "code",
      "execution_count": null,
      "metadata": {
        "colab": {
          "base_uri": "https://localhost:8080/"
        },
        "id": "xjbvhpY55iLV",
        "outputId": "f5f92fce-4e04-428b-aa3c-a94705216f39"
      },
      "outputs": [
        {
          "name": "stdout",
          "output_type": "stream",
          "text": [
            "Tenga un buen dia\n",
            "Buenas noches\n",
            "Hasta luego\n"
          ]
        }
      ],
      "source": [
        " def show_messages(lista):\n",
        "  \"This function prints all elements in a previous define list\"\n",
        "  for message in lista:\n",
        "    print(message)\n",
        "\n",
        " short_messages = ['Tenga un buen dia', 'Buenas noches', 'Hasta luego' ]\n",
        " show_messages(short_messages)\n"
      ]
    },
    {
      "cell_type": "markdown",
      "metadata": {
        "id": "DeKTopX9McDP"
      },
      "source": [
        "---\n",
        "\n",
        "<b> Ejercicio 3</b>\n",
        "\n",
        "Comience con su trabajo del Ejercicio anterior. Llame a la función **send_messages()** con una copia de la lista de mensajes. Después de llamar a la función, imprima ambas listas para mostrar que la lista original ha conservado sus mensajes.\n",
        "\n",
        "---"
      ]
    },
    {
      "cell_type": "code",
      "execution_count": null,
      "metadata": {
        "id": "VgbwZYFFDjH3"
      },
      "outputs": [],
      "source": [
        " def show_messages(lista):\n",
        "  \"This function prints all elements in a previous define list\"\n",
        "  for message in lista:\n",
        "    print(message)\n",
        "\n",
        " short_messages = ['Tenga un buen dia', 'Buenas noches', 'Hasta luego' ]\n",
        " show_messages(short_messages)\n"
      ]
    },
    {
      "cell_type": "markdown",
      "metadata": {
        "id": "Wnme938ANSqz"
      },
      "source": [
        "# 6. Pasar un número arbitrario de argumentos"
      ]
    },
    {
      "cell_type": "code",
      "execution_count": null,
      "metadata": {
        "id": "GqEL53UHDxWl"
      },
      "outputs": [],
      "source": [
        "def make_pizza(*toppings):\n",
        "    \"\"\"Print the list of toppings that have been requested.\"\"\"\n",
        "    print(toppings)\n"
      ]
    },
    {
      "cell_type": "code",
      "execution_count": null,
      "metadata": {
        "colab": {
          "base_uri": "https://localhost:8080/"
        },
        "id": "6QleoN8X63w-",
        "outputId": "4c206f44-458d-451f-b15b-15806210b727"
      },
      "outputs": [
        {
          "name": "stdout",
          "output_type": "stream",
          "text": [
            "('pepperoni',)\n"
          ]
        }
      ],
      "source": [
        "make_pizza('pepperoni')"
      ]
    },
    {
      "cell_type": "code",
      "execution_count": null,
      "metadata": {
        "colab": {
          "base_uri": "https://localhost:8080/"
        },
        "id": "SQgZl_dgDwue",
        "outputId": "e9b51113-f982-41a9-ab7f-4d8da3ca1e09"
      },
      "outputs": [
        {
          "name": "stdout",
          "output_type": "stream",
          "text": [
            "('mushrooms', 'green peppers', 'extra cheese')\n"
          ]
        }
      ],
      "source": [
        "\n",
        "make_pizza('mushrooms', 'green peppers', 'extra cheese')"
      ]
    },
    {
      "cell_type": "code",
      "execution_count": null,
      "metadata": {
        "id": "_fejq6AGN0Uf"
      },
      "outputs": [],
      "source": [
        "def make_pizza(*toppings):\n",
        "    \"\"\"Summarize the pizza we are about to make.\"\"\"\n",
        "    print(\"\\nMaking a pizza with the following toppings:\")\n",
        "    for topping in toppings:\n",
        "        print(f\"- {topping}\")\n"
      ]
    },
    {
      "cell_type": "code",
      "execution_count": null,
      "metadata": {
        "colab": {
          "base_uri": "https://localhost:8080/"
        },
        "id": "-9hL5oSIN07z",
        "outputId": "0b7266d3-50bc-480f-c906-5bf8967d2ba5"
      },
      "outputs": [
        {
          "name": "stdout",
          "output_type": "stream",
          "text": [
            "\n",
            "Making a pizza with the following toppings:\n",
            "- pepperoni\n",
            "\n",
            "Making a pizza with the following toppings:\n",
            "- mushrooms\n",
            "- green peppers\n",
            "- extra cheese\n"
          ]
        }
      ],
      "source": [
        "make_pizza('pepperoni')\n",
        "make_pizza('mushrooms', 'green peppers', 'extra cheese')"
      ]
    },
    {
      "cell_type": "markdown",
      "metadata": {
        "id": "8NrI0kgCOLN2"
      },
      "source": [
        "### Mezclar argumentos posicionales y arbitrarios"
      ]
    },
    {
      "cell_type": "code",
      "execution_count": null,
      "metadata": {
        "id": "LItqvKT2OMdS"
      },
      "outputs": [],
      "source": [
        "def make_pizza(size, *toppings):\n",
        "    \"\"\"Summarize the pizza we are about to make.\"\"\"\n",
        "    print(f\"\\nMaking a {size}-inch pizza with the following toppings:\")\n",
        "    for topping in toppings:\n",
        "        print(f\"- {topping}\")\n"
      ]
    },
    {
      "cell_type": "code",
      "execution_count": null,
      "metadata": {
        "colab": {
          "base_uri": "https://localhost:8080/"
        },
        "id": "9OJO5HC0OTEP",
        "outputId": "a17dec6f-9469-4f2e-b505-1aa3a36491d6"
      },
      "outputs": [
        {
          "name": "stdout",
          "output_type": "stream",
          "text": [
            "\n",
            "Making a 16-inch pizza with the following toppings:\n",
            "- pepperoni\n",
            "\n",
            "Making a 12-inch pizza with the following toppings:\n",
            "- mushrooms\n",
            "- green peppers\n",
            "- extra cheese\n"
          ]
        }
      ],
      "source": [
        "make_pizza(16, 'pepperoni')\n",
        "make_pizza(12, 'mushrooms', 'green peppers', 'extra cheese')"
      ]
    },
    {
      "cell_type": "markdown",
      "metadata": {
        "id": "N6DxNYhpO_PL"
      },
      "source": [
        "### Uso de argumentos de palabras clave arbitrarias"
      ]
    },
    {
      "cell_type": "code",
      "execution_count": null,
      "metadata": {
        "id": "N7rGzzAi72fD"
      },
      "outputs": [],
      "source": [
        "{'a':'a1',\n",
        " }"
      ]
    },
    {
      "cell_type": "code",
      "execution_count": null,
      "metadata": {
        "id": "xBUVzZSU756z"
      },
      "outputs": [],
      "source": [
        "my_dict['a'] = 'a1' "
      ]
    },
    {
      "cell_type": "code",
      "execution_count": null,
      "metadata": {
        "id": "tXBMgW8JPAyn"
      },
      "outputs": [],
      "source": [
        "def build_profile(first, last, **user_info):\n",
        "    \"\"\"Build a dictionary containing everything we know about a user.\"\"\"\n",
        "    user_info['first_name'] = first\n",
        "    user_info['last_name'] = last\n",
        "    return user_info\n"
      ]
    },
    {
      "cell_type": "code",
      "execution_count": null,
      "metadata": {
        "colab": {
          "base_uri": "https://localhost:8080/"
        },
        "id": "5Vgv0LQU8G_q",
        "outputId": "4db070a0-632f-4376-8738-a54a92c09ab5"
      },
      "outputs": [
        {
          "name": "stdout",
          "output_type": "stream",
          "text": [
            "{'first_name': 'albert', 'last_name': 'einstein'}\n"
          ]
        }
      ],
      "source": [
        "user_profile = build_profile('albert', 'einstein')\n",
        "print(user_profile)"
      ]
    },
    {
      "cell_type": "code",
      "execution_count": null,
      "metadata": {
        "colab": {
          "base_uri": "https://localhost:8080/"
        },
        "id": "uW5z9dNTPKyu",
        "outputId": "f1979794-32e9-4df3-c83b-ebb338720c59"
      },
      "outputs": [
        {
          "name": "stdout",
          "output_type": "stream",
          "text": [
            "{'location': 'princeton', 'field': 'physics', 'first_name': 'albert', 'last_name': 'einstein'}\n"
          ]
        }
      ],
      "source": [
        "user_profile = build_profile('albert', 'einstein',\n",
        "                             location='princeton',\n",
        "                             field='physics')\n",
        "print(user_profile)"
      ]
    },
    {
      "cell_type": "code",
      "execution_count": null,
      "metadata": {
        "colab": {
          "base_uri": "https://localhost:8080/"
        },
        "id": "NgTwtf_H8YKu",
        "outputId": "57a69b5a-d7de-4ee6-9f49-2dabf7476a02"
      },
      "outputs": [
        {
          "name": "stdout",
          "output_type": "stream",
          "text": [
            "{'location': 'Peru', 'field': 'estadística', 'age': 30, 'colour': 'azul', 'first_name': 'John', 'last_name': 'Caballero'}\n"
          ]
        }
      ],
      "source": [
        "user_profile = build_profile('John', 'Caballero',\n",
        "                             location='Peru',\n",
        "                             field='estadística',\n",
        "                             age=30,\n",
        "                             colour='azul')\n",
        "print(user_profile)"
      ]
    },
    {
      "cell_type": "markdown",
      "metadata": {
        "id": "0kYhXVPvQSh_"
      },
      "source": [
        "---\n",
        "\n",
        "<b> Ejercicio 1</b>\n",
        "\n",
        "Escribe una función que acepte una lista de artículos que una persona quiere en un sándwich. La función debe tener un parámetro que recopile tantos elementos como proporcione la llamada a la función, y debe imprimir un resumen del sándwich que se está ordenando. Llame a la función tres veces, usando un número diferente de argumentos cada vez."
      ]
    },
    {
      "cell_type": "code",
      "execution_count": null,
      "metadata": {
        "colab": {
          "base_uri": "https://localhost:8080/"
        },
        "id": "rDcNXtPv8we_",
        "outputId": "435a449e-10f2-472b-8a3a-0e1e8ca9e386"
      },
      "outputs": [
        {
          "name": "stdout",
          "output_type": "stream",
          "text": [
            "\n",
            "Se preparará un sandwich con los siguientes ingredientes:\n",
            "-\t- Queso\n",
            "-\t- Tomate\n",
            "-\t- Papas\n",
            "\n",
            "Se preparará un sandwich con los siguientes ingredientes:\n",
            "-\t- Queso\n",
            "-\t- Tomate\n",
            "-\t- Papas\n",
            "-\t- Huevo\n",
            "-\t- Mayonesa\n"
          ]
        }
      ],
      "source": [
        "def make_sandwich(*ingredientes):\n",
        "  \"\"\"Estafunción lee ingredientes ara un sandwich\"\"\"\n",
        "  print('\\nSe preparará un sandwich con los siguientes ingredientes:')\n",
        "  for ingrediente in ingredientes:\n",
        "    print(f\"-\\t- {ingrediente}\")  \n",
        "\n",
        "  \n",
        "make_sandwich(\"Queso\", \"Tomate\", \"Papas\")\n",
        "make_sandwich(\"Queso\", \"Tomate\", \"Papas\", \"Huevo\", \"Mayonesa\")\n"
      ]
    },
    {
      "cell_type": "markdown",
      "metadata": {
        "id": "NXvPqgVZQcx9"
      },
      "source": [
        "---\n",
        "\n",
        "<b> Ejercicio 2</b>\n",
        "\n",
        "Comience con una copia de **user_profile** de ***Uso de argumentos de palabras clave arbitrarias***. Cree un perfil de usted mismo llamando a **build_profile()**, usando su nombre y apellido y otros tres pares clave-valor que lo describan."
      ]
    },
    {
      "cell_type": "code",
      "execution_count": null,
      "metadata": {
        "colab": {
          "background_save": true
        },
        "id": "k4E3awYaCyIa",
        "outputId": "0b12017c-c47f-4b03-8f02-11596d98869d"
      },
      "outputs": [
        {
          "ename": "SyntaxError",
          "evalue": "ignored",
          "output_type": "error",
          "traceback": [
            "\u001b[0;36m  File \u001b[0;32m\"<ipython-input-4-486d7a1b77ed>\"\u001b[0;36m, line \u001b[0;32m2\u001b[0m\n\u001b[0;31m    \"\"\"Build a dictionary containing everything we know about a user.\"\"\"user_info['first_name'] = firstuser_info['last_name'] = lastreturn user_infouser_profile = build_profile(\"Ivan\",\"Ataucuri\",edad=28,ocupación=\"Administrador\",pasatiempo=\"Ir al cine\")print(user_profile)\u001b[0m\n\u001b[0m                                                                                ^\u001b[0m\n\u001b[0;31mSyntaxError\u001b[0m\u001b[0;31m:\u001b[0m invalid syntax\n"
          ]
        }
      ],
      "source": [
        "def build_profile(first, last, **user_info):\n",
        "  \"\"\"Build a dictionary containing everything we know about a user.\"\"\"user_info['first_name'] = firstuser_info['last_name'] = lastreturn user_infouser_profile = build_profile(\"Ivan\",\"Ataucuri\",edad=28,ocupación=\"Administrador\",pasatiempo=\"Ir al cine\")print(user_profile)"
      ]
    },
    {
      "cell_type": "markdown",
      "metadata": {
        "id": "gpj7y6NYQjLq"
      },
      "source": [
        "---\n",
        "\n",
        "<b> Ejercicio 3</b>\n",
        "\n",
        "Escribe una función que almacene información sobre un automóvil en un diccionario. La función siempre debe recibir un fabricante y un nombre de modelo. Entonces debería aceptar un número arbitrario de argumentos de palabras clave. Llame a la función con la información requerida y otros dos pares de nombre y valor, como un color o una función opcional. Su función debería funcionar para una llamada como esta:\n",
        "\n",
        "coche = **make_car**('subaru', 'outback', color='blue', tow_package=True)\n",
        "\n",
        "Imprima el diccionario que se devuelve para asegurarse de que toda la información se almacenó correctamente.\n",
        "\n",
        "---"
      ]
    },
    {
      "cell_type": "code",
      "execution_count": null,
      "metadata": {
        "id": "sq8PG4auyKFs"
      },
      "outputs": [],
      "source": [
        "def make_pizza(size, *toppings):\"\"\"Summarize the pizza we are about to make.\"\"\"print(f\"\\nMaking a {size}-inch pizza with the following toppings:\n",
        "  \")for topping in toppings:print(f\"- {topping}\")"
      ]
    },
    {
      "cell_type": "markdown",
      "metadata": {
        "id": "Ut0OnphvWeOw"
      },
      "source": [
        "# 7. Almacenamiento de funciones en módulos"
      ]
    },
    {
      "cell_type": "markdown",
      "metadata": {
        "id": "qML64F41WRTX"
      },
      "source": [
        "### Importar funciones específicas"
      ]
    },
    {
      "cell_type": "code",
      "execution_count": null,
      "metadata": {
        "id": "oLt942aV-KiI"
      },
      "outputs": [],
      "source": [
        "from sandwich import make_sandwich"
      ]
    },
    {
      "cell_type": "code",
      "execution_count": null,
      "metadata": {
        "colab": {
          "base_uri": "https://localhost:8080/"
        },
        "id": "C5oRUNh6-UUA",
        "outputId": "38610cfd-024f-49af-a988-1c724eafcc3b"
      },
      "outputs": [
        {
          "name": "stdout",
          "output_type": "stream",
          "text": [
            "\n",
            "La pizza contiene los siguientes toppings:\n",
            "- Queso\n",
            "- Doble jamón\n",
            "- papas\n"
          ]
        }
      ],
      "source": [
        "make_sandwich('Queso', 'Doble jamón', 'papas')"
      ]
    },
    {
      "cell_type": "code",
      "execution_count": null,
      "metadata": {
        "id": "cA4XkhylQYhn"
      },
      "outputs": [],
      "source": [
        "from pizza import make_pizza"
      ]
    },
    {
      "cell_type": "code",
      "execution_count": null,
      "metadata": {
        "colab": {
          "base_uri": "https://localhost:8080/"
        },
        "id": "eesDvKLZVehZ",
        "outputId": "06d86cee-817a-4f48-b4d0-a552e7cddb6a"
      },
      "outputs": [
        {
          "name": "stdout",
          "output_type": "stream",
          "text": [
            "\n",
            "Making a 16-inch pizza with the following toppings:\n",
            "- pepperoni\n",
            "\n",
            "Making a 12-inch pizza with the following toppings:\n",
            "- mushrooms\n",
            "- green peppers\n",
            "- extra cheese\n"
          ]
        }
      ],
      "source": [
        "make_pizza(16, 'pepperoni')\n",
        "make_pizza(12, 'mushrooms', 'green peppers', 'extra cheese')"
      ]
    },
    {
      "cell_type": "markdown",
      "metadata": {
        "id": "c4ojH2gyWAYW"
      },
      "source": [
        "### Uso de as para dar un alias a una función"
      ]
    },
    {
      "cell_type": "code",
      "execution_count": null,
      "metadata": {
        "colab": {
          "base_uri": "https://localhost:8080/"
        },
        "id": "h6WyN6L9VliG",
        "outputId": "99dc3380-3b31-44ef-cf07-c585d84234d8"
      },
      "outputs": [
        {
          "name": "stdout",
          "output_type": "stream",
          "text": [
            "\n",
            "Making a 16-inch pizza with the following toppings:\n",
            "- pepperoni\n",
            "\n",
            "Making a 12-inch pizza with the following toppings:\n",
            "- mushrooms\n",
            "- green peppers\n",
            "- extra cheese\n"
          ]
        }
      ],
      "source": [
        "from pizza import make_pizza as mp\n",
        "\n",
        "mp(16, 'pepperoni')\n",
        "mp(12, 'mushrooms', 'green peppers', 'extra cheese')"
      ]
    },
    {
      "cell_type": "markdown",
      "metadata": {
        "id": "vYeRmZSCVxE8"
      },
      "source": [
        "### Uso de as para dar un alias a un módulo"
      ]
    },
    {
      "cell_type": "code",
      "execution_count": null,
      "metadata": {
        "colab": {
          "base_uri": "https://localhost:8080/"
        },
        "id": "ErMJcae6VrqE",
        "outputId": "33d8247f-ec82-4e1b-b7bf-cef3fdcc3837"
      },
      "outputs": [
        {
          "name": "stdout",
          "output_type": "stream",
          "text": [
            "\n",
            "Making a 16-inch pizza with the following toppings:\n",
            "- pepperoni\n",
            "\n",
            "Making a 12-inch pizza with the following toppings:\n",
            "- mushrooms\n",
            "- green peppers\n",
            "- extra cheese\n"
          ]
        }
      ],
      "source": [
        "import pizza as p\n",
        "\n",
        "p.make_pizza(16, 'pepperoni')\n",
        "p.make_pizza(12, 'mushrooms', 'green peppers', 'extra cheese')"
      ]
    },
    {
      "cell_type": "markdown",
      "metadata": {
        "id": "zl5-pV1XfXi1"
      },
      "source": [
        "# 8. Introducción a Clases"
      ]
    },
    {
      "cell_type": "markdown",
      "metadata": {
        "id": "Zm1Zg6mGd-GW"
      },
      "source": [
        "Una función que es parte de una clase es un método. Todo lo que aprendió sobre las funciones también se aplica a los métodos; la única diferencia práctica por ahora es la forma en que llamaremos a los métodos."
      ]
    },
    {
      "cell_type": "markdown",
      "metadata": {
        "id": "7N1Jxb6ceSRx"
      },
      "source": [
        "**El método Init**\n",
        "\n",
        "El método __init__() es un método especial que Python ejecuta automáticamente cada vez que creamos una nueva instancia basada en la clase Dog. Este método tiene dos guiones bajos iniciales y dos guiones bajos finales, una convención que ayuda a evitar que los nombres de métodos predeterminados de Python entren en conflicto con los nombres de sus métodos. Asegúrese de usar dos guiones bajos a cada lado de __init__(). Si usa solo uno en cada lado, el método no se llamará automáticamente cuando use su clase, lo que puede generar errores que son difíciles de identificar."
      ]
    },
    {
      "cell_type": "code",
      "execution_count": null,
      "metadata": {
        "id": "flog3R7bdvZn"
      },
      "outputs": [],
      "source": [
        "class Dog:\n",
        "    \"\"\"A simple attempt to model a dog.\"\"\"\n",
        "    def __init__(self, name, age):\n",
        "        \"\"\"Initialize name and age attributes.\"\"\"\n",
        "        self.name = name\n",
        "        self.age = age\n",
        "\n",
        "    def sit(self):\n",
        "        \"\"\"Simulate a dog sitting in response to a command.\"\"\"\n",
        "        print(f\"{self.name} esta sentado.\")\n",
        "\n",
        "    def roll_over(self):\n",
        "        \"\"\"Simulate rolling over in response to a command.\"\"\"\n",
        "        print(f\"{self.name} esta rodando!\")\n"
      ]
    },
    {
      "cell_type": "code",
      "execution_count": null,
      "metadata": {
        "id": "ekZkhZeud1HN"
      },
      "outputs": [],
      "source": [
        "my_dog = Dog('Willie', 6)"
      ]
    },
    {
      "cell_type": "code",
      "execution_count": null,
      "metadata": {
        "colab": {
          "base_uri": "https://localhost:8080/"
        },
        "id": "Vi5yplZPe61f",
        "outputId": "66208e36-7b06-41a8-c821-10f699e720b6"
      },
      "outputs": [
        {
          "name": "stdout",
          "output_type": "stream",
          "text": [
            "El nombre de mi perro es Willie.\n"
          ]
        }
      ],
      "source": [
        "print(f\"El nombre de mi perro es {my_dog.name}.\")"
      ]
    },
    {
      "cell_type": "code",
      "execution_count": null,
      "metadata": {
        "colab": {
          "base_uri": "https://localhost:8080/"
        },
        "id": "Uaf2In0sfBfO",
        "outputId": "b84849dc-6287-4b84-ea0a-02fbb3fd2925"
      },
      "outputs": [
        {
          "name": "stdout",
          "output_type": "stream",
          "text": [
            "Mi perro tiene 6 años.\n"
          ]
        }
      ],
      "source": [
        "print(f\"Mi perro tiene {my_dog.age} años.\")"
      ]
    },
    {
      "cell_type": "markdown",
      "metadata": {
        "id": "EpkCSrR6fqEh"
      },
      "source": [
        "### Llamando métodos de la clase"
      ]
    },
    {
      "cell_type": "code",
      "execution_count": null,
      "metadata": {
        "colab": {
          "base_uri": "https://localhost:8080/"
        },
        "id": "bcqIi7zPfmVh",
        "outputId": "94a931d9-ce93-4002-f526-69b325159c64"
      },
      "outputs": [
        {
          "name": "stdout",
          "output_type": "stream",
          "text": [
            "Willie esta sentado.\n"
          ]
        }
      ],
      "source": [
        "my_dog.sit()"
      ]
    },
    {
      "cell_type": "code",
      "execution_count": null,
      "metadata": {
        "colab": {
          "base_uri": "https://localhost:8080/"
        },
        "id": "RhFLCn3Eftjz",
        "outputId": "aa376d5a-88d8-4fbe-f35b-8c897ed96a45"
      },
      "outputs": [
        {
          "name": "stdout",
          "output_type": "stream",
          "text": [
            "Willie esta rodando!\n"
          ]
        }
      ],
      "source": [
        "my_dog.roll_over()"
      ]
    },
    {
      "cell_type": "markdown",
      "metadata": {
        "id": "yqpTqtBrf5pF"
      },
      "source": [
        "### Creando múltiples instancias"
      ]
    },
    {
      "cell_type": "code",
      "execution_count": null,
      "metadata": {
        "id": "MsHtLxOrf-nB"
      },
      "outputs": [],
      "source": [
        "my_dog = Dog('Willie', 6)\n",
        "your_dog = Dog('Lucy', 3)\n"
      ]
    },
    {
      "cell_type": "code",
      "execution_count": null,
      "metadata": {
        "colab": {
          "base_uri": "https://localhost:8080/"
        },
        "id": "ia8YHqsWf_T0",
        "outputId": "9447b01a-dc96-4274-8258-290dc9800ab8"
      },
      "outputs": [
        {
          "name": "stdout",
          "output_type": "stream",
          "text": [
            "El nombre de mi perro es Willie.\n",
            "Mi perro tiene 6 años.\n",
            "Willie esta sentado.\n"
          ]
        }
      ],
      "source": [
        "print(f\"El nombre de mi perro es {my_dog.name}.\")\n",
        "print(f\"Mi perro tiene {my_dog.age} años.\")\n",
        "my_dog.sit()\n"
      ]
    },
    {
      "cell_type": "code",
      "execution_count": null,
      "metadata": {
        "colab": {
          "base_uri": "https://localhost:8080/"
        },
        "id": "woRDon1-gBV0",
        "outputId": "aaffb299-ba2e-42c9-d2f0-648880ea560e"
      },
      "outputs": [
        {
          "name": "stdout",
          "output_type": "stream",
          "text": [
            "\n",
            "El nombre de tu perro es Lucy.\n",
            "Tu perro tiene 3 años.\n",
            "Lucy esta sentado.\n"
          ]
        }
      ],
      "source": [
        "print(f\"\\nEl nombre de tu perro es {your_dog.name}.\")\n",
        "print(f\"Tu perro tiene {your_dog.age} años.\")\n",
        "your_dog.sit()"
      ]
    },
    {
      "cell_type": "markdown",
      "metadata": {
        "id": "kp8q0QVDgqkZ"
      },
      "source": [
        "---\n",
        "\n",
        "<b> Ejercicio 1</b>\n",
        "\n",
        "Haz una clase llamada Restaurante. El método __init__() para Restaurante debe almacenar dos atributos: un nombre_restaurante y un tipo_cocina. Cree un método llamado describe_restaurant() que imprima estos dos datos y un método llamado open_restaurant() que imprima un mensaje que indique que el restaurante está abierto.\n",
        "\n",
        "Cree una instancia llamada restaurante de su clase. Imprima los dos atributos individualmente y luego llame a ambos métodos."
      ]
    },
    {
      "cell_type": "code",
      "execution_count": null,
      "metadata": {
        "id": "g7gst4DZAlSO"
      },
      "outputs": [],
      "source": [
        "class Restaurante:\n",
        "    \"\"\"A simple attempt to model a restaurante.\"\"\"\n",
        "    def __init__(self, nombre_restaurante, tipo_cocina):\n",
        "        \"\"\"Initialize name and age attributes.\"\"\"\n",
        "        self.nombre_restaurante = nombre_restaurante\n",
        "        self.tipo_cocina = tipo_cocina\n",
        "\n",
        "    def describe_restaurant(self):\n",
        "        \"\"\"\"\"\"\n",
        "        print(f'{self.nombre_restaurante}, {self.tipo_cocina}')\n",
        "\n",
        "    def open_restaurant(self):\n",
        "        \"\"\"\"\"\"\n",
        "        print('El restaurante esta abierto')\n",
        "\n",
        "        "
      ]
    },
    {
      "cell_type": "code",
      "execution_count": null,
      "metadata": {
        "id": "kkVZF-lTBS-S"
      },
      "outputs": [],
      "source": [
        "my_rest = Restaurante('Gaston Acurio', 'Criolla')"
      ]
    },
    {
      "cell_type": "code",
      "execution_count": null,
      "metadata": {
        "colab": {
          "base_uri": "https://localhost:8080/",
          "height": 35
        },
        "id": "Nb2A0lTlBd8O",
        "outputId": "8328d88b-d034-49ed-8462-be3167d91a12"
      },
      "outputs": [
        {
          "data": {
            "application/vnd.google.colaboratory.intrinsic+json": {
              "type": "string"
            },
            "text/plain": [
              "'Gaston Acurio'"
            ]
          },
          "execution_count": 145,
          "metadata": {},
          "output_type": "execute_result"
        }
      ],
      "source": [
        "my_rest.nombre_restaurante"
      ]
    },
    {
      "cell_type": "code",
      "execution_count": null,
      "metadata": {
        "colab": {
          "base_uri": "https://localhost:8080/"
        },
        "id": "Xmx3--qlBhrG",
        "outputId": "0a1b79b6-4902-4203-b9e3-6a8bcd1cd562"
      },
      "outputs": [
        {
          "name": "stdout",
          "output_type": "stream",
          "text": [
            "Gaston Acurio, Criolla\n"
          ]
        }
      ],
      "source": [
        "my_rest.describe_restaurant()"
      ]
    },
    {
      "cell_type": "code",
      "execution_count": null,
      "metadata": {
        "colab": {
          "base_uri": "https://localhost:8080/"
        },
        "id": "bpm8vBr2B5mT",
        "outputId": "ca2c28d9-556a-43f2-a021-5e0587632ae6"
      },
      "outputs": [
        {
          "name": "stdout",
          "output_type": "stream",
          "text": [
            "El restaurante esta abierto\n"
          ]
        }
      ],
      "source": [
        "my_rest.open_restaurant()"
      ]
    },
    {
      "cell_type": "markdown",
      "metadata": {
        "id": "uD1V4MnYgxO2"
      },
      "source": [
        "---\n",
        "\n",
        "<b> Ejercicio 2</b>\n",
        "\n",
        "Comience con su clase del Ejercicio anterior. Cree tres instancias diferentes de la clase y llame a **describe_restaurant**() para cada instancia."
      ]
    },
    {
      "cell_type": "code",
      "execution_count": null,
      "metadata": {
        "id": "_OeMpa-OCCIm"
      },
      "outputs": [],
      "source": [
        "my_rest1 = Restaurante('Gaston Acurio', 'Criolla')\n",
        "my_rest2 = Restaurante('Señor Limon', 'Marina')\n",
        "my_rest3 = Restaurante('Charrua', 'Carnes')"
      ]
    },
    {
      "cell_type": "code",
      "execution_count": null,
      "metadata": {
        "colab": {
          "base_uri": "https://localhost:8080/"
        },
        "id": "cbxcp9m8CNNF",
        "outputId": "262db2f6-594f-481d-808e-ec3a51d14cd4"
      },
      "outputs": [
        {
          "name": "stdout",
          "output_type": "stream",
          "text": [
            "Gaston Acurio, Criolla\n"
          ]
        }
      ],
      "source": [
        "my_rest1.describe_restaurant() "
      ]
    },
    {
      "cell_type": "code",
      "execution_count": null,
      "metadata": {
        "colab": {
          "base_uri": "https://localhost:8080/"
        },
        "id": "qiLUedoKCRGo",
        "outputId": "0d4591bf-3daf-448c-a1e8-503ed6538f1c"
      },
      "outputs": [
        {
          "name": "stdout",
          "output_type": "stream",
          "text": [
            "Señor Limon, Marina\n"
          ]
        }
      ],
      "source": [
        "my_rest2.describe_restaurant() "
      ]
    },
    {
      "cell_type": "markdown",
      "metadata": {
        "id": "PlqVFUueg2QI"
      },
      "source": [
        "---\n",
        "\n",
        "<b> Ejercicio 3</b>\n",
        "\n",
        "Haz una clase llamada Usuario. Cree dos atributos llamados **first_name** y **last_name**, y luego cree varios otros atributos que normalmente se almacenan en un perfil de usuario. Cree un método llamado **describe_user**() que imprima un resumen de la información del usuario. Cree otro método llamado **greeting_user**() que imprima un saludo personalizado para el usuario.\n",
        "\n",
        "Cree varias instancias que representen a diferentes usuarios y llame a ambos métodos para cada usuario.\n",
        "\n",
        "---"
      ]
    },
    {
      "cell_type": "code",
      "source": [
        "class Usuario:\n",
        "    \"\"\"A simple attempt to model a user.\"\"\"\n",
        "    def __init__(self, first_name, last _name):\n",
        "        \"\"\"Initialize name and age attributes.\"\"\"\n",
        "        self.nombre_usuario = nombre_usuario\n",
        "        self.apellido_usuario = apellido_usuario\n",
        "\n",
        "    def describe_user(self):\n",
        "        \"\"\"\"\"\"\n",
        "        print(f'{self.first_name}, {self.first_name}')\n",
        "        \n",
        "\n",
        "    def greeting_user(self):\n",
        "        \"\"\"\"\"\"\n",
        "        print(f'{self.last _name}, {self.last _name}')"
      ],
      "metadata": {
        "id": "2hZWU6MsF8Qz"
      },
      "execution_count": null,
      "outputs": []
    },
    {
      "cell_type": "markdown",
      "metadata": {
        "id": "MXXM4w69aIll"
      },
      "source": [
        "---\n",
        "\n",
        "# Gracias por completar este laboratorio!\n",
        "\n",
        "---\n"
      ]
    }
  ],
  "metadata": {
    "colab": {
      "collapsed_sections": [
        "MXXM4w69aIll"
      ],
      "provenance": [],
      "include_colab_link": true
    },
    "kernelspec": {
      "display_name": "Python 3",
      "name": "python3"
    },
    "language_info": {
      "name": "python"
    }
  },
  "nbformat": 4,
  "nbformat_minor": 0
}