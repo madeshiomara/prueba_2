{
  "nbformat": 4,
  "nbformat_minor": 0,
  "metadata": {
    "colab": {
      "name": "prueba_clase_2.ipynb",
      "provenance": [],
      "history_visible": true,
      "authorship_tag": "ABX9TyN2C7cE0LWKb6GnpoVHhXd0",
      "include_colab_link": true
    },
    "kernelspec": {
      "name": "python3",
      "display_name": "Python 3"
    },
    "language_info": {
      "name": "python"
    }
  },
  "cells": [
    {
      "cell_type": "markdown",
      "metadata": {
        "id": "view-in-github",
        "colab_type": "text"
      },
      "source": [
        "<a href=\"https://colab.research.google.com/github/madeshiomara/prueba_2/blob/main/prueba_clase_2.ipynb\" target=\"_parent\"><img src=\"https://colab.research.google.com/assets/colab-badge.svg\" alt=\"Open In Colab\"/></a>"
      ]
    },
    {
      "cell_type": "code",
      "source": [
        "6 + 3 + 1"
      ],
      "metadata": {
        "id": "r5MbMs3dyDtq",
        "colab": {
          "base_uri": "https://localhost:8080/"
        },
        "outputId": "74edc23c-468c-4a96-db38-909632a499ba"
      },
      "execution_count": 1,
      "outputs": [
        {
          "output_type": "execute_result",
          "data": {
            "text/plain": [
              "2"
            ]
          },
          "metadata": {},
          "execution_count": 1
        }
      ]
    },
    {
      "cell_type": "code",
      "execution_count": null,
      "metadata": {
        "id": "JLL8zbo4qgNw"
      },
      "outputs": [],
      "source": [
        ""
      ]
    }
  ]
}